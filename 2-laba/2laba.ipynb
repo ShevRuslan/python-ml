{
 "cells": [
  {
   "cell_type": "markdown",
   "id": "35035dc0",
   "metadata": {},
   "source": [
    "# Лабораторная работа 2\n",
    "## ----------------------------------------------------------------------------------------------------------------------------------\n",
    "## Задание:\n",
    "1. Провести классификацию найденного датасета, методом машины опорных векторов. В формате Markdown писать пояснения. Объяснить почему были выбраны именно такие гиперпараметры, была ли перекрестная проверка, и т.д."
   ]
  },
  {
   "cell_type": "code",
   "execution_count": 88,
   "id": "eaf986bb",
   "metadata": {},
   "outputs": [],
   "source": [
    "import pandas as pd\n",
    "from sklearn.model_selection import train_test_split\n",
    "from sklearn.preprocessing import StandardScaler\n",
    "from sklearn.svm import SVC\n",
    "from sklearn.metrics import accuracy_score, classification_report\n",
    "from sklearn.model_selection import cross_val_score\n",
    "from sklearn.model_selection import StratifiedKFold"
   ]
  },
  {
   "cell_type": "code",
   "execution_count": 89,
   "id": "fc073148",
   "metadata": {},
   "outputs": [
    {
     "name": "stdout",
     "output_type": "stream",
     "text": [
      "       Unnamed: 0  Age  Overall  Pace  Shooting  Passing  Dribbling  \\\n",
      "5               5   31       90    85        89       76         13   \n",
      "13             13   31       89    86        85       89         21   \n",
      "15             15   31       89    86        85       85         27   \n",
      "22             22   30       88    86        82       91         23   \n",
      "24             24   30       88    85        90       78         12   \n",
      "...           ...  ...      ...   ...       ...      ...        ...   \n",
      "17301        1456   20       59    57        60       54         13   \n",
      "17304        1459   18       59    63        60       57         11   \n",
      "17314        1469   20       57    57        59       54         21   \n",
      "17319        1474   17       56    61        53       50          9   \n",
      "17320        1475   20       54    55        51       50         10   \n",
      "\n",
      "       Defending  Physicality  Acceleration  ...  Def  Standing  Sliding  \\\n",
      "5             46           90            42  ...   20        18       16   \n",
      "13            47           86            45  ...   25        13       10   \n",
      "15            56           90            60  ...   15        19       16   \n",
      "22            64           86            64  ...   29        15        8   \n",
      "24            46           86            42  ...   27        14       18   \n",
      "...          ...          ...           ...  ...  ...       ...      ...   \n",
      "17301         36           59            37  ...   13        16       14   \n",
      "17304         48           55            47  ...    7        14       14   \n",
      "17314         40           53            40  ...   11        11       13   \n",
      "17319         51           50            51  ...   10        10       12   \n",
      "17320         33           54            34  ...   11        13       10   \n",
      "\n",
      "       Jumping  Stamina  Strength  Aggression  Weak foot  Skill moves    GK  \n",
      "5           68       38        70          23          3            1  93.0  \n",
      "13          72       35        78          43          4            1  91.0  \n",
      "15          82       32        78          27          3            1  89.0  \n",
      "22          79       44        78          38          3            1  86.0  \n",
      "24          72       42        78          36          3            1  87.0  \n",
      "...        ...      ...       ...         ...        ...          ...   ...  \n",
      "17301       58       27        68          20          3            1  59.0  \n",
      "17304       44       21        37          23          2            1  62.0  \n",
      "17314       48       22        50          18          2            1  59.0  \n",
      "17319       45       32        40          18          2            1  59.0  \n",
      "17320       58       15        71          21          4            1  54.0  \n",
      "\n",
      "[1952 rows x 38 columns]\n"
     ]
    }
   ],
   "source": [
    "# Загрузка данных\n",
    "data = pd.read_csv('all_players.csv')\n",
    "non_numeric_columns = data.select_dtypes(exclude=['number']).columns.tolist()\n",
    "# Удаляем столбцы с нечисловыми данными из DataFrame\n",
    "data = data.drop(columns=non_numeric_columns)\n",
    "data.dropna(inplace=True)\n",
    "print(data)"
   ]
  },
  {
   "cell_type": "code",
   "execution_count": 90,
   "id": "bf60329d",
   "metadata": {},
   "outputs": [],
   "source": [
    "# Разделение данных на обучающую и тестовую выборки\n",
    "X = data.drop('Def', axis=1)  # Замените 'target' на имя столбца с целевой переменной\n",
    "y = data['Def']  # Замените 'target' на имя столбца с целевой переменной\n",
    "X_train, X_test, y_train, y_test = train_test_split(X, y, test_size=0.2, random_state=42)\n",
    "\n",
    "# Нормализация данных\n",
    "scaler = StandardScaler()\n",
    "X_train = scaler.fit_transform(X_train)\n",
    "X_test = scaler.transform(X_test)"
   ]
  },
  {
   "cell_type": "code",
   "execution_count": 87,
   "id": "dda1ffee",
   "metadata": {
    "scrolled": true
   },
   "outputs": [
    {
     "name": "stdout",
     "output_type": "stream",
     "text": [
      "Точность модели: 0.11508951406649616\n",
      "              precision    recall  f1-score   support\n",
      "\n",
      "           5       0.08      0.15      0.11        13\n",
      "           6       0.08      0.05      0.06        20\n",
      "           7       0.14      0.14      0.14        22\n",
      "           8       0.16      0.25      0.19        36\n",
      "           9       0.11      0.14      0.13        35\n",
      "          10       0.24      0.22      0.23        37\n",
      "          11       0.20      0.09      0.13        33\n",
      "          12       0.04      0.10      0.06        21\n",
      "          13       0.00      0.00      0.00        21\n",
      "          14       0.11      0.10      0.11        20\n",
      "          15       0.07      0.11      0.08        19\n",
      "          16       0.17      0.06      0.09        16\n",
      "          17       0.14      0.07      0.10        14\n",
      "          18       0.27      0.15      0.19        20\n",
      "          19       1.00      0.00      0.00         8\n",
      "          20       0.11      0.20      0.14        15\n",
      "          21       0.00      0.00      0.00         5\n",
      "          22       0.00      0.00      0.00         9\n",
      "          23       0.00      0.00      0.00         6\n",
      "          24       0.00      0.00      0.00         3\n",
      "          25       0.00      0.00      0.00         3\n",
      "          26       0.00      0.00      0.00         3\n",
      "          27       0.00      0.00      0.00         4\n",
      "          28       1.00      0.00      0.00         2\n",
      "          29       0.00      0.00      0.00         4\n",
      "          30       1.00      0.00      0.00         2\n",
      "\n",
      "    accuracy                           0.12       391\n",
      "   macro avg       0.19      0.07      0.07       391\n",
      "weighted avg       0.15      0.12      0.11       391\n",
      "\n",
      "Средняя точность перекрестной проверки: 0.10121228536721494\n"
     ]
    }
   ],
   "source": [
    "# Инициализация модели SVM с выбранными гиперпараметрами\n",
    "# Вы можете изменить эти параметры в соответствии с вашими потребностями\n",
    "svm_model = SVC(kernel='linear', C=1.0)\n",
    "\n",
    "# Обучение модели\n",
    "svm_model.fit(X_train, y_train)\n",
    "\n",
    "# Предсказание на тестовой выборке\n",
    "y_pred = svm_model.predict(X_test)\n",
    "\n",
    "# Оценка качества модели\n",
    "accuracy = accuracy_score(y_test, y_pred)\n",
    "report = classification_report(y_test, y_pred, zero_division = 1)\n",
    "\n",
    "print(f'Точность модели: {accuracy}')\n",
    "print(report)\n",
    "\n",
    "# Перекрестная проверка\n",
    "stratified_kfold = StratifiedKFold(n_splits=2, shuffle=True, random_state=42)\n",
    "cross_val_scores = cross_val_score(svm_model, X_train, y_train, cv=stratified_kfold)\n",
    "\n",
    "print(f'Средняя точность перекрестной проверки: {cross_val_scores.mean()}')"
   ]
  },
  {
   "cell_type": "code",
   "execution_count": null,
   "id": "4cad78b3",
   "metadata": {},
   "outputs": [],
   "source": []
  },
  {
   "cell_type": "code",
   "execution_count": null,
   "id": "cbe5a325",
   "metadata": {},
   "outputs": [],
   "source": []
  }
 ],
 "metadata": {
  "kernelspec": {
   "display_name": "Python 3 (ipykernel)",
   "language": "python",
   "name": "python3"
  },
  "language_info": {
   "codemirror_mode": {
    "name": "ipython",
    "version": 3
   },
   "file_extension": ".py",
   "mimetype": "text/x-python",
   "name": "python",
   "nbconvert_exporter": "python",
   "pygments_lexer": "ipython3",
   "version": "3.10.9"
  }
 },
 "nbformat": 4,
 "nbformat_minor": 5
}
