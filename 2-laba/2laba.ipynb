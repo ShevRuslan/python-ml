{
 "cells": [
  {
   "cell_type": "markdown",
   "id": "5c3379a3-2d45-46fb-9dcd-063ba153fbd4",
   "metadata": {},
   "source": [
    "# Лабораторная работа 2\n",
    "## ----------------------------------------------------------------------------------------------------------------------------------\n",
    "## Задание:\n",
    "1. Провести классификацию найденного датасета, методом машины опорных векторов. В формате Markdown писать пояснения. Объяснить почему были выбраны именно такие гиперпараметры, была ли перекрестная проверка, и т.д."
   ]
  },
  {
   "cell_type": "code",
   "execution_count": 20,
   "id": "287c66f3-5c27-46ea-a671-d65d554ac033",
   "metadata": {},
   "outputs": [],
   "source": [
    "import pandas as pd\n",
    "import matplotlib.pyplot as plt\n",
    "import numpy as np\n",
    "from sklearn.model_selection import train_test_split\n",
    "from sklearn.preprocessing import StandardScaler\n",
    "from sklearn.metrics import accuracy_score, classification_report\n",
    "from sklearn.model_selection import cross_val_score\n",
    "from sklearn.model_selection import StratifiedKFold\n",
    "from sklearn.preprocessing import LabelEncoder\n",
    "from sklearn.model_selection import GridSearchCV\n",
    "from sklearn.svm import SVC"
   ]
  },
  {
   "cell_type": "code",
   "execution_count": 3,
   "id": "cdefa557-3068-4998-8a1b-cd9a36e0cbeb",
   "metadata": {},
   "outputs": [
    {
     "name": "stdout",
     "output_type": "stream",
     "text": [
      "       Unnamed: 0  Age  Overall  Pace  Shooting  Passing  Dribbling  \\\n",
      "5               5   31       90    85        89       76         13   \n",
      "13             13   31       89    86        85       89         21   \n",
      "15             15   31       89    86        85       85         27   \n",
      "22             22   30       88    86        82       91         23   \n",
      "24             24   30       88    85        90       78         12   \n",
      "...           ...  ...      ...   ...       ...      ...        ...   \n",
      "17301        1456   20       59    57        60       54         13   \n",
      "17304        1459   18       59    63        60       57         11   \n",
      "17314        1469   20       57    57        59       54         21   \n",
      "17319        1474   17       56    61        53       50          9   \n",
      "17320        1475   20       54    55        51       50         10   \n",
      "\n",
      "       Defending  Physicality  Acceleration  ...  Standing  Sliding  Jumping  \\\n",
      "5             46           90            42  ...        18       16       68   \n",
      "13            47           86            45  ...        13       10       72   \n",
      "15            56           90            60  ...        19       16       82   \n",
      "22            64           86            64  ...        15        8       79   \n",
      "24            46           86            42  ...        14       18       72   \n",
      "...          ...          ...           ...  ...       ...      ...      ...   \n",
      "17301         36           59            37  ...        16       14       58   \n",
      "17304         48           55            47  ...        14       14       44   \n",
      "17314         40           53            40  ...        11       13       48   \n",
      "17319         51           50            51  ...        10       12       45   \n",
      "17320         33           54            34  ...        13       10       58   \n",
      "\n",
      "       Stamina  Strength  Aggression  Weak foot  Skill moves    GK  \\\n",
      "5           38        70          23          3            1  93.0   \n",
      "13          35        78          43          4            1  91.0   \n",
      "15          32        78          27          3            1  89.0   \n",
      "22          44        78          38          3            1  86.0   \n",
      "24          42        78          36          3            1  87.0   \n",
      "...        ...       ...         ...        ...          ...   ...   \n",
      "17301       27        68          20          3            1  59.0   \n",
      "17304       21        37          23          2            1  62.0   \n",
      "17314       22        50          18          2            1  59.0   \n",
      "17319       32        40          18          2            1  59.0   \n",
      "17320       15        71          21          4            1  54.0   \n",
      "\n",
      "       Preferred foot Encoded  \n",
      "5                           0  \n",
      "13                          1  \n",
      "15                          1  \n",
      "22                          0  \n",
      "24                          1  \n",
      "...                       ...  \n",
      "17301                       1  \n",
      "17304                       1  \n",
      "17314                       1  \n",
      "17319                       1  \n",
      "17320                       1  \n",
      "\n",
      "[1952 rows x 39 columns]\n"
     ]
    }
   ],
   "source": [
    "dataSet = pd.read_csv('all_players.csv')\n",
    "\n",
    "label_encoder = LabelEncoder()\n",
    "dataSet['Preferred foot Encoded'] = label_encoder.fit_transform(dataSet['Preferred foot'])\n",
    "\n",
    "non_numeric_columns = dataSet.select_dtypes(exclude=['number']).columns.tolist()\n",
    "\n",
    "dataSet = dataSet.drop(columns=non_numeric_columns)\n",
    "dataSet.dropna(inplace=True)\n",
    "print(dataSet)"
   ]
  },
  {
   "cell_type": "code",
   "execution_count": 4,
   "id": "fc3cb4b7-5dcb-4dba-9370-f2c75154bd66",
   "metadata": {},
   "outputs": [],
   "source": [
    "X = dataSet.drop('Preferred foot Encoded', axis=1) \n",
    "y = dataSet['Preferred foot Encoded']  \n",
    "X_train, X_test, y_train, y_test = train_test_split(X, y, test_size=0.2, random_state=42)\n",
    "\n",
    "scaler = StandardScaler()\n",
    "X_train = scaler.fit_transform(X_train)\n",
    "X_test = scaler.transform(X_test)"
   ]
  },
  {
   "cell_type": "code",
   "execution_count": 13,
   "id": "399f9bcf-9a79-45b8-9416-8f547d269cc8",
   "metadata": {},
   "outputs": [
    {
     "name": "stdout",
     "output_type": "stream",
     "text": [
      "Лучшие параметры: Ядро = poly, C = 0.001, Degree = 7\n"
     ]
    }
   ],
   "source": [
    "# Создаем словарь с параметрами для GridSearchCV\n",
    "param_grid = {'kernel': ['linear', 'rbf', 'sigmoid', 'poly'],\n",
    "              'C': [0.001, 0.01, 0.1, 1, 10],\n",
    "              'degree': [1, 2, 3, 4, 5, 6, 7]}  # Добавляем параметр degree от 1 до 7\n",
    "\n",
    "# Создаем объект GridSearchCV\n",
    "svm_grid = GridSearchCV(SVC(), param_grid, cv=5, scoring='accuracy', n_jobs=-1)\n",
    "\n",
    "# Обучаем GridSearch для подбора лучших параметров\n",
    "svm_grid.fit(X_train, y_train)\n",
    "\n",
    "# Получаем лучшие параметры\n",
    "best_params = svm_grid.best_params_\n",
    "best_kernel = best_params['kernel']\n",
    "best_C = best_params['C']\n",
    "best_degree = best_params['degree']\n",
    "\n",
    "# Выводим лучшие параметры\n",
    "print(f\"Лучшие параметры: Ядро = {best_kernel}, C = {best_C}, Degree = {best_degree}\")"
   ]
  },
  {
   "cell_type": "code",
   "execution_count": 17,
   "id": "d7300dd7-e379-441d-b9a1-f3f4777cf848",
   "metadata": {},
   "outputs": [
    {
     "name": "stdout",
     "output_type": "stream",
     "text": [
      "Точность модели: 0.8823529411764706\n",
      "              precision    recall  f1-score   support\n",
      "\n",
      "           0       1.00      0.00      0.00        46\n",
      "           1       0.88      1.00      0.94       345\n",
      "\n",
      "    accuracy                           0.88       391\n",
      "   macro avg       0.94      0.50      0.47       391\n",
      "weighted avg       0.90      0.88      0.83       391\n",
      "\n",
      "Средняя точность перекрестной проверки: 0.8904552020749203\n"
     ]
    }
   ],
   "source": [
    "svm_model = SVC(kernel='poly', degree=7, C=0.001) \n",
    "\n",
    "svm_model.fit(X_train, y_train)\n",
    "\n",
    "y_pred = svm_model.predict(X_test)\n",
    "\n",
    "accuracy = accuracy_score(y_test, y_pred)\n",
    "report = classification_report(y_test, y_pred, zero_division = 1)\n",
    "\n",
    "print(f'Точность модели: {accuracy}')\n",
    "print(report)\n",
    "\n",
    "stratified_kfold = StratifiedKFold(n_splits=2, shuffle=True, random_state=42)\n",
    "cross_val_scores = cross_val_score(svm_model, X_train, y_train, cv=stratified_kfold)\n",
    "\n",
    "print(f'Средняя точность перекрестной проверки: {cross_val_scores.mean()}')"
   ]
  },
  {
   "cell_type": "code",
   "execution_count": 24,
   "id": "deb3f07f-4f7b-41b4-a749-3a11e6f3f144",
   "metadata": {},
   "outputs": [
    {
     "data": {
      "image/png": "[encoded data removed]",
      "text/plain": [
       "<Figure size 800x600 with 1 Axes>"
      ]
     },
     "metadata": {},
     "output_type": "display_data"
    }
   ],
   "source": [
    "plt.figure(figsize=(8, 6))\n",
    "plt.plot(np.arange(1, len(cross_val_scores) + 1), cross_val_scores, marker='o')\n",
    "plt.title('Результаты кросс-валидации для модели SVM')\n",
    "plt.xlabel('Фолд')\n",
    "plt.ylabel('Точность')\n",
    "plt.xticks(np.arange(1, len(cross_val_scores) + 1))\n",
    "plt.grid(True)\n",
    "plt.show()"
   ]
  },
  {
   "cell_type": "markdown",
   "id": "6b3f31da-009e-46c5-860c-d2d607932e7e",
   "metadata": {},
   "source": [
    "Из всех вышеперечисленных ядер, значений можно сделать следующие вывод. Во всех случаях точность получается ~0.87, из чего можно следующий вывод: Это означает, что модель правильно классифицировала около 87% тестовых наблюдений, т.е она правильно предсказала метку класса для примерно 87% наблюдений в тестовом наборе данных, т.е высокая точность\n",
    "Также было проверены различные параметры C, из чего можно сделать вывод, что при большем C меньше точность.\n",
    "Также была сделана перекрестная проверка, при оптимальном параметра C (0.1) ее значение равно ~0.89, из чего можно сделать выовд, что такое значение указывает на довольно высокую точность модели при перекрестной проверки.\n",
    "Перекрестная проверка нужна, для того, чтобы оцени обобщающую способность модели, стабильность модели."
   ]
  }
 ],
 "metadata": {
  "kernelspec": {
   "display_name": "Python 3 (ipykernel)",
   "language": "python",
   "name": "python3"
  },
  "language_info": {
   "codemirror_mode": {
    "name": "ipython",
    "version": 3
   },
   "file_extension": ".py",
   "mimetype": "text/x-python",
   "name": "python",
   "nbconvert_exporter": "python",
   "pygments_lexer": "ipython3",
   "version": "3.10.9"
  }
 },
 "nbformat": 4,
 "nbformat_minor": 5
}
