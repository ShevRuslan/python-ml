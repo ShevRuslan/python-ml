{
 "cells": [
  {
   "cell_type": "code",
   "execution_count": 1,
   "id": "e08ccaf5-16ff-40c9-8c1d-bf5b67468d38",
   "metadata": {},
   "outputs": [
    {
     "name": "stdout",
     "output_type": "stream",
     "text": [
      "Collecting catboost\n",
      "  Downloading catboost-1.2.2-cp310-cp310-win_amd64.whl (101.0 MB)\n",
      "     -------------------------------------- 101.0/101.0 MB 2.9 MB/s eta 0:00:00\n",
      "Requirement already satisfied: scipy in c:\\users\\ruslan\\anaconda3\\lib\\site-packages (from catboost) (1.10.0)\n",
      "Requirement already satisfied: pandas>=0.24 in c:\\users\\ruslan\\anaconda3\\lib\\site-packages (from catboost) (1.5.3)\n",
      "Requirement already satisfied: matplotlib in c:\\users\\ruslan\\anaconda3\\lib\\site-packages (from catboost) (3.7.0)\n",
      "Collecting graphviz\n",
      "  Downloading graphviz-0.20.1-py3-none-any.whl (47 kB)\n",
      "     ---------------------------------------- 47.0/47.0 kB ? eta 0:00:00\n",
      "Requirement already satisfied: plotly in c:\\users\\ruslan\\anaconda3\\lib\\site-packages (from catboost) (5.9.0)\n",
      "Requirement already satisfied: six in c:\\users\\ruslan\\anaconda3\\lib\\site-packages (from catboost) (1.16.0)\n",
      "Requirement already satisfied: numpy>=1.16.0 in c:\\users\\ruslan\\anaconda3\\lib\\site-packages (from catboost) (1.23.5)\n",
      "Requirement already satisfied: pytz>=2020.1 in c:\\users\\ruslan\\anaconda3\\lib\\site-packages (from pandas>=0.24->catboost) (2022.7)\n",
      "Requirement already satisfied: python-dateutil>=2.8.1 in c:\\users\\ruslan\\anaconda3\\lib\\site-packages (from pandas>=0.24->catboost) (2.8.2)\n",
      "Requirement already satisfied: pillow>=6.2.0 in c:\\users\\ruslan\\anaconda3\\lib\\site-packages (from matplotlib->catboost) (9.4.0)\n",
      "Requirement already satisfied: cycler>=0.10 in c:\\users\\ruslan\\anaconda3\\lib\\site-packages (from matplotlib->catboost) (0.11.0)\n",
      "Requirement already satisfied: fonttools>=4.22.0 in c:\\users\\ruslan\\anaconda3\\lib\\site-packages (from matplotlib->catboost) (4.25.0)\n",
      "Requirement already satisfied: kiwisolver>=1.0.1 in c:\\users\\ruslan\\anaconda3\\lib\\site-packages (from matplotlib->catboost) (1.4.4)\n",
      "Requirement already satisfied: contourpy>=1.0.1 in c:\\users\\ruslan\\anaconda3\\lib\\site-packages (from matplotlib->catboost) (1.0.5)\n",
      "Requirement already satisfied: pyparsing>=2.3.1 in c:\\users\\ruslan\\anaconda3\\lib\\site-packages (from matplotlib->catboost) (3.0.9)\n",
      "Requirement already satisfied: packaging>=20.0 in c:\\users\\ruslan\\anaconda3\\lib\\site-packages (from matplotlib->catboost) (22.0)\n",
      "Requirement already satisfied: tenacity>=6.2.0 in c:\\users\\ruslan\\anaconda3\\lib\\site-packages (from plotly->catboost) (8.0.1)\n",
      "Installing collected packages: graphviz, catboost\n",
      "Successfully installed catboost-1.2.2 graphviz-0.20.1\n"
     ]
    }
   ],
   "source": [
    "!pip install catboost\n",
    "\n",
    "import pandas as pd\n",
    "import numpy as np\n",
    "from sklearn.preprocessing import LabelEncoder\n",
    "from sklearn.model_selection import train_test_split, GridSearchCV\n",
    "from sklearn.neighbors import KNeighborsClassifier\n",
    "from sklearn.metrics import accuracy_score, classification_report\n",
    "from catboost import CatBoostClassifier\n",
    "from imblearn.under_sampling import RandomUnderSampler\n",
    "import matplotlib.pyplot as plt"
   ]
  },
  {
   "cell_type": "code",
   "execution_count": 5,
   "id": "58d2d297-de96-4104-91a0-92be82b557bd",
   "metadata": {},
   "outputs": [
    {
     "name": "stdout",
     "output_type": "stream",
     "text": [
      "   Unnamed: 0             Name     Nation             Club Position  Age  \\\n",
      "0           0    Kylian Mbappé     France         Paris SG       ST   24   \n",
      "1           1   Erling Haaland     Norway  Manchester City       ST   23   \n",
      "2           2  Kevin De Bruyne    Belgium  Manchester City       CM   32   \n",
      "3           3     Lionel Messi  Argentina   Inter Miami CF       CF   36   \n",
      "4           4    Karim Benzema     France       Al Ittihad       CF   35   \n",
      "\n",
      "   Overall  Pace  Shooting  Passing  ...  Strength  Aggression  Att work rate  \\\n",
      "0       91    97        90       80  ...        77          64           High   \n",
      "1       91    89        93       66  ...        93          87           High   \n",
      "2       91    72        88       94  ...        74          75           High   \n",
      "3       90    80        87       90  ...        68          44            Low   \n",
      "4       90    79        88       83  ...        82          63         Medium   \n",
      "\n",
      "   Def work rate  Preferred foot  Weak foot  Skill moves  \\\n",
      "0            Low           Right          4            5   \n",
      "1         Medium            Left          3            3   \n",
      "2         Medium           Right          5            4   \n",
      "3            Low            Left          4            4   \n",
      "4         Medium           Right          4            4   \n",
      "\n",
      "                                                 URL  Gender  GK  \n",
      "0  https://www.ea.com/games/ea-sports-fc/ratings/...       M NaN  \n",
      "1  https://www.ea.com/games/ea-sports-fc/ratings/...       M NaN  \n",
      "2  https://www.ea.com/games/ea-sports-fc/ratings/...       M NaN  \n",
      "3  https://www.ea.com/games/ea-sports-fc/ratings/...       M NaN  \n",
      "4  https://www.ea.com/games/ea-sports-fc/ratings/...       M NaN  \n",
      "\n",
      "[5 rows x 47 columns]\n"
     ]
    }
   ],
   "source": [
    "Dataset = pd.read_csv('all_players.csv')  # Замени на путь к файлу\n",
    "print(Dataset.head())"
   ]
  },
  {
   "cell_type": "code",
   "execution_count": 6,
   "id": "00d9f3fe-a61d-483b-a1d9-4ea0aa982ae3",
   "metadata": {},
   "outputs": [
    {
     "name": "stdout",
     "output_type": "stream",
     "text": [
      "  Preferred foot  Preferred foot Encoded\n",
      "0          Right                       1\n",
      "1           Left                       0\n",
      "2          Right                       1\n",
      "3           Left                       0\n",
      "4          Right                       1\n",
      "5           Left                       0\n",
      "6          Right                       1\n",
      "7          Right                       1\n",
      "8           Left                       0\n",
      "9          Right                       1\n"
     ]
    }
   ],
   "source": [
    "label_encoder = LabelEncoder()\n",
    "Dataset['Preferred foot Encoded'] = label_encoder.fit_transform(Dataset['Preferred foot'])\n",
    "print(Dataset[['Preferred foot', 'Preferred foot Encoded']].head(10))"
   ]
  },
  {
   "cell_type": "code",
   "execution_count": 7,
   "id": "e41bb07c-b937-40db-a568-4b8ca398ef90",
   "metadata": {},
   "outputs": [
    {
     "name": "stdout",
     "output_type": "stream",
     "text": [
      "<class 'pandas.core.frame.DataFrame'>\n",
      "RangeIndex: 17326 entries, 0 to 17325\n",
      "Data columns (total 38 columns):\n",
      " #   Column                  Non-Null Count  Dtype\n",
      "---  ------                  --------------  -----\n",
      " 0   Unnamed: 0              17326 non-null  int64\n",
      " 1   Age                     17326 non-null  int64\n",
      " 2   Overall                 17326 non-null  int64\n",
      " 3   Pace                    17326 non-null  int64\n",
      " 4   Shooting                17326 non-null  int64\n",
      " 5   Passing                 17326 non-null  int64\n",
      " 6   Dribbling               17326 non-null  int64\n",
      " 7   Defending               17326 non-null  int64\n",
      " 8   Physicality             17326 non-null  int64\n",
      " 9   Acceleration            17326 non-null  int64\n",
      " 10  Sprint                  17326 non-null  int64\n",
      " 11  Positioning             17326 non-null  int64\n",
      " 12  Finishing               17326 non-null  int64\n",
      " 13  Shot                    17326 non-null  int64\n",
      " 14  Long                    17326 non-null  int64\n",
      " 15  Volleys                 17326 non-null  int64\n",
      " 16  Penalties               17326 non-null  int64\n",
      " 17  Vision                  17326 non-null  int64\n",
      " 18  Crossing                17326 non-null  int64\n",
      " 19  Free                    17326 non-null  int64\n",
      " 20  Curve                   17326 non-null  int64\n",
      " 21  Agility                 17326 non-null  int64\n",
      " 22  Balance                 17326 non-null  int64\n",
      " 23  Reactions               17326 non-null  int64\n",
      " 24  Ball                    17326 non-null  int64\n",
      " 25  Composure               17326 non-null  int64\n",
      " 26  Interceptions           17326 non-null  int64\n",
      " 27  Heading                 17326 non-null  int64\n",
      " 28  Def                     17326 non-null  int64\n",
      " 29  Standing                17326 non-null  int64\n",
      " 30  Sliding                 17326 non-null  int64\n",
      " 31  Jumping                 17326 non-null  int64\n",
      " 32  Stamina                 17326 non-null  int64\n",
      " 33  Strength                17326 non-null  int64\n",
      " 34  Aggression              17326 non-null  int64\n",
      " 35  Weak foot               17326 non-null  int64\n",
      " 36  Skill moves             17326 non-null  int64\n",
      " 37  Preferred foot Encoded  17326 non-null  int32\n",
      "dtypes: int32(1), int64(37)\n",
      "memory usage: 5.0 MB\n",
      "       Unnamed: 0  Age  Overall  Pace  Shooting  Passing  Dribbling  \\\n",
      "0               0   24       91    97        90       80         93   \n",
      "1               1   23       91    89        93       66         79   \n",
      "2               2   32       91    72        88       94         86   \n",
      "3               3   36       90    80        87       90         96   \n",
      "4               4   35       90    79        88       83         87   \n",
      "...           ...  ...      ...   ...       ...      ...        ...   \n",
      "17321        1476   17       54    60        50       54         54   \n",
      "17322        1477   18       52    58        25       40         38   \n",
      "17323        1478   23       52    60        55       53         52   \n",
      "17324        1479   19       52    61        52       46         51   \n",
      "17325        1480   20       52    59        42       51         51   \n",
      "\n",
      "       Defending  Physicality  Acceleration  ...  Def  Standing  Sliding  \\\n",
      "0             36           78            97  ...   26        34       32   \n",
      "1             45           88            82  ...   38        47       29   \n",
      "2             65           78            72  ...   66        70       53   \n",
      "3             33           64            87  ...   20        35       24   \n",
      "4             39           78            78  ...   43        24       18   \n",
      "...          ...          ...           ...  ...  ...       ...      ...   \n",
      "17321         27           55            59  ...   23        24       31   \n",
      "17322         52           55            59  ...   53        53       49   \n",
      "17323         49           52            58  ...   62        35       31   \n",
      "17324         53           59            60  ...   52        58       50   \n",
      "17325         51           56            58  ...   55        46       55   \n",
      "\n",
      "       Jumping  Stamina  Strength  Aggression  Weak foot  Skill moves  \\\n",
      "0           88       88        77          64          4            5   \n",
      "1           93       76        93          87          3            3   \n",
      "2           72       88        74          75          5            4   \n",
      "3           71       70        68          44          4            4   \n",
      "4           85       82        82          63          4            4   \n",
      "...        ...      ...       ...         ...        ...          ...   \n",
      "17321       66       40        66          42          3            3   \n",
      "17322       59       48        61          49          3            2   \n",
      "17323       50       57        51          51          4            4   \n",
      "17324       54       60        60          56          3            2   \n",
      "17325       55       60        56          49          3            2   \n",
      "\n",
      "       Preferred foot Encoded  \n",
      "0                           1  \n",
      "1                           0  \n",
      "2                           1  \n",
      "3                           0  \n",
      "4                           1  \n",
      "...                       ...  \n",
      "17321                       0  \n",
      "17322                       1  \n",
      "17323                       1  \n",
      "17324                       0  \n",
      "17325                       1  \n",
      "\n",
      "[17326 rows x 38 columns]\n"
     ]
    }
   ],
   "source": [
    "non_numeric_columns = Dataset.select_dtypes(exclude=['number']).columns.tolist()\n",
    "Dataset = Dataset.drop(columns=non_numeric_columns)\n",
    "Dataset = Dataset.drop(\"GK\", axis=1)\n",
    "Dataset.info()\n",
    "print(Dataset)"
   ]
  },
  {
   "cell_type": "code",
   "execution_count": 8,
   "id": "19f23fb2-9c8d-4a50-9456-540b4cf840da",
   "metadata": {},
   "outputs": [
    {
     "name": "stdout",
     "output_type": "stream",
     "text": [
      "Лучшие параметры для CatBoost: {'depth': 8, 'iterations': 300, 'learning_rate': 0.05}\n"
     ]
    }
   ],
   "source": [
    "X = Dataset.drop(columns=['Preferred foot Encoded'])\n",
    "y = Dataset['Preferred foot Encoded']\n",
    "\n",
    "X_train, X_test, y_train, y_test = train_test_split(X, y, test_size=0.4, random_state=42)\n",
    "under_sampler = RandomUnderSampler(random_state=42)\n",
    "\n",
    "X_resampled, y_resampled = under_sampler.fit_resample(X_train, y_train)\n",
    "# Параметры для настройки CatBoost\n",
    "catboost_params = {\n",
    "    'iterations': [100, 200, 300],\n",
    "    'learning_rate': [0.01, 0.05, 0.1],\n",
    "    'depth': [4, 6, 8]\n",
    "}\n",
    "\n",
    "# Создание модели CatBoost\n",
    "catboost_model = CatBoostClassifier(verbose=False)\n",
    "\n",
    "# Подбор лучших параметров с помощью GridSearchCV\n",
    "catboost_grid_search = GridSearchCV(catboost_model, catboost_params, cv=5)\n",
    "catboost_grid_search.fit(X_resampled, y_resampled)\n",
    "\n",
    "# Лучшие параметры\n",
    "best_catboost_params = catboost_grid_search.best_params_\n",
    "print(f\"Лучшие параметры для CatBoost: {best_catboost_params}\")"
   ]
  },
  {
   "cell_type": "code",
   "execution_count": 9,
   "id": "57be81b3-587f-4f4d-a44c-c9fe5584df37",
   "metadata": {},
   "outputs": [
    {
     "name": "stdout",
     "output_type": "stream",
     "text": [
      "Точность CatBoost на тестовых данных: 0.6522868272976482\n",
      "Classification Report для CatBoost:\n",
      "              precision    recall  f1-score   support\n",
      "\n",
      "           0       0.36      0.63      0.46      1643\n",
      "           1       0.85      0.66      0.74      5288\n",
      "\n",
      "    accuracy                           0.65      6931\n",
      "   macro avg       0.61      0.64      0.60      6931\n",
      "weighted avg       0.74      0.65      0.68      6931\n",
      "\n"
     ]
    }
   ],
   "source": [
    "# Переобучение модели с лучшими параметрами на всем тренировочном наборе данных\n",
    "best_catboost_model = CatBoostClassifier(**best_catboost_params, verbose=False)\n",
    "best_catboost_model.fit(X_resampled, y_resampled)\n",
    "\n",
    "# Предсказание на тестовых данных\n",
    "y_pred_catboost = best_catboost_model.predict(X_test)\n",
    "\n",
    "# Оценка точности\n",
    "accuracy_catboost = accuracy_score(y_test, y_pred_catboost)\n",
    "print(f\"Точность CatBoost на тестовых данных: {accuracy_catboost}\")\n",
    "\n",
    "# Отчет о классификации для CatBoost\n",
    "print(\"Classification Report для CatBoost:\")\n",
    "print(classification_report(y_test, y_pred_catboost))"
   ]
  },
  {
   "cell_type": "code",
   "execution_count": null,
   "id": "c718b2ce-ecef-4a78-a3a8-ac336220e20f",
   "metadata": {},
   "outputs": [],
   "source": []
  }
 ],
 "metadata": {
  "kernelspec": {
   "display_name": "Python 3 (ipykernel)",
   "language": "python",
   "name": "python3"
  },
  "language_info": {
   "codemirror_mode": {
    "name": "ipython",
    "version": 3
   },
   "file_extension": ".py",
   "mimetype": "text/x-python",
   "name": "python",
   "nbconvert_exporter": "python",
   "pygments_lexer": "ipython3",
   "version": "3.10.9"
  }
 },
 "nbformat": 4,
 "nbformat_minor": 5
}
