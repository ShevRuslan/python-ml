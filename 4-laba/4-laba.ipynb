{
 "cells": [
  {
   "cell_type": "code",
   "execution_count": 142,
   "id": "44dff301-72ff-434b-9add-2e97560cb4d1",
   "metadata": {},
   "outputs": [],
   "source": [
    "import pandas as pd\n",
    "import numpy as np\n",
    "from sklearn.preprocessing import LabelEncoder\n",
    "from sklearn.model_selection import train_test_split, GridSearchCV\n",
    "from sklearn.naive_bayes import GaussianNB, BernoulliNB, MultinomialNB\n",
    "from sklearn.metrics import accuracy_score, classification_report\n",
    "from imblearn.under_sampling import RandomUnderSampler\n",
    "from sklearn.metrics import precision_score, recall_score, f1_score\n",
    "\n",
    "import matplotlib.pyplot as plt"
   ]
  },
  {
   "cell_type": "code",
   "execution_count": 143,
   "id": "9aa1cfd0-afc5-4c53-bad8-59f4b4707d11",
   "metadata": {},
   "outputs": [
    {
     "name": "stdout",
     "output_type": "stream",
     "text": [
      "   Unnamed: 0             Name     Nation             Club Position  Age  \\\n",
      "0           0    Kylian Mbappé     France         Paris SG       ST   24   \n",
      "1           1   Erling Haaland     Norway  Manchester City       ST   23   \n",
      "2           2  Kevin De Bruyne    Belgium  Manchester City       CM   32   \n",
      "3           3     Lionel Messi  Argentina   Inter Miami CF       CF   36   \n",
      "4           4    Karim Benzema     France       Al Ittihad       CF   35   \n",
      "\n",
      "   Overall  Pace  Shooting  Passing  ...  Strength  Aggression  Att work rate  \\\n",
      "0       91    97        90       80  ...        77          64           High   \n",
      "1       91    89        93       66  ...        93          87           High   \n",
      "2       91    72        88       94  ...        74          75           High   \n",
      "3       90    80        87       90  ...        68          44            Low   \n",
      "4       90    79        88       83  ...        82          63         Medium   \n",
      "\n",
      "   Def work rate  Preferred foot  Weak foot  Skill moves  \\\n",
      "0            Low           Right          4            5   \n",
      "1         Medium            Left          3            3   \n",
      "2         Medium           Right          5            4   \n",
      "3            Low            Left          4            4   \n",
      "4         Medium           Right          4            4   \n",
      "\n",
      "                                                 URL  Gender  GK  \n",
      "0  https://www.ea.com/games/ea-sports-fc/ratings/...       M NaN  \n",
      "1  https://www.ea.com/games/ea-sports-fc/ratings/...       M NaN  \n",
      "2  https://www.ea.com/games/ea-sports-fc/ratings/...       M NaN  \n",
      "3  https://www.ea.com/games/ea-sports-fc/ratings/...       M NaN  \n",
      "4  https://www.ea.com/games/ea-sports-fc/ratings/...       M NaN  \n",
      "\n",
      "[5 rows x 47 columns]\n"
     ]
    }
   ],
   "source": [
    "Dataset = pd.read_csv('all_players.csv')  # Замени на путь к файлу\n",
    "print(Dataset.head())"
   ]
  },
  {
   "cell_type": "code",
   "execution_count": 144,
   "id": "7b8a1e91-f09a-48e5-b9d1-5c9a536ffa42",
   "metadata": {},
   "outputs": [
    {
     "name": "stdout",
     "output_type": "stream",
     "text": [
      "  Preferred foot  Preferred foot Encoded\n",
      "0          Right                       1\n",
      "1           Left                       0\n",
      "2          Right                       1\n",
      "3           Left                       0\n",
      "4          Right                       1\n",
      "5           Left                       0\n",
      "6          Right                       1\n",
      "7          Right                       1\n",
      "8           Left                       0\n",
      "9          Right                       1\n"
     ]
    }
   ],
   "source": [
    "label_encoder = LabelEncoder()\n",
    "Dataset['Preferred foot Encoded'] = label_encoder.fit_transform(Dataset['Preferred foot'])\n",
    "print(Dataset[['Preferred foot', 'Preferred foot Encoded']].head(10))"
   ]
  },
  {
   "cell_type": "code",
   "execution_count": 145,
   "id": "7bd86452-4291-427a-98d0-07ab2d7ccf29",
   "metadata": {},
   "outputs": [
    {
     "name": "stdout",
     "output_type": "stream",
     "text": [
      "<class 'pandas.core.frame.DataFrame'>\n",
      "RangeIndex: 17326 entries, 0 to 17325\n",
      "Data columns (total 38 columns):\n",
      " #   Column                  Non-Null Count  Dtype\n",
      "---  ------                  --------------  -----\n",
      " 0   Unnamed: 0              17326 non-null  int64\n",
      " 1   Age                     17326 non-null  int64\n",
      " 2   Overall                 17326 non-null  int64\n",
      " 3   Pace                    17326 non-null  int64\n",
      " 4   Shooting                17326 non-null  int64\n",
      " 5   Passing                 17326 non-null  int64\n",
      " 6   Dribbling               17326 non-null  int64\n",
      " 7   Defending               17326 non-null  int64\n",
      " 8   Physicality             17326 non-null  int64\n",
      " 9   Acceleration            17326 non-null  int64\n",
      " 10  Sprint                  17326 non-null  int64\n",
      " 11  Positioning             17326 non-null  int64\n",
      " 12  Finishing               17326 non-null  int64\n",
      " 13  Shot                    17326 non-null  int64\n",
      " 14  Long                    17326 non-null  int64\n",
      " 15  Volleys                 17326 non-null  int64\n",
      " 16  Penalties               17326 non-null  int64\n",
      " 17  Vision                  17326 non-null  int64\n",
      " 18  Crossing                17326 non-null  int64\n",
      " 19  Free                    17326 non-null  int64\n",
      " 20  Curve                   17326 non-null  int64\n",
      " 21  Agility                 17326 non-null  int64\n",
      " 22  Balance                 17326 non-null  int64\n",
      " 23  Reactions               17326 non-null  int64\n",
      " 24  Ball                    17326 non-null  int64\n",
      " 25  Composure               17326 non-null  int64\n",
      " 26  Interceptions           17326 non-null  int64\n",
      " 27  Heading                 17326 non-null  int64\n",
      " 28  Def                     17326 non-null  int64\n",
      " 29  Standing                17326 non-null  int64\n",
      " 30  Sliding                 17326 non-null  int64\n",
      " 31  Jumping                 17326 non-null  int64\n",
      " 32  Stamina                 17326 non-null  int64\n",
      " 33  Strength                17326 non-null  int64\n",
      " 34  Aggression              17326 non-null  int64\n",
      " 35  Weak foot               17326 non-null  int64\n",
      " 36  Skill moves             17326 non-null  int64\n",
      " 37  Preferred foot Encoded  17326 non-null  int32\n",
      "dtypes: int32(1), int64(37)\n",
      "memory usage: 5.0 MB\n"
     ]
    }
   ],
   "source": [
    "non_numeric_columns = Dataset.select_dtypes(exclude=['number']).columns.tolist()\n",
    "Dataset = Dataset.drop(columns=non_numeric_columns)\n",
    "Dataset = Dataset.drop(\"GK\", axis=1)\n",
    "Dataset.info()"
   ]
  },
  {
   "cell_type": "code",
   "execution_count": 175,
   "id": "e5b15140-e26b-4921-86c8-9fb0d5c9e451",
   "metadata": {},
   "outputs": [
    {
     "name": "stdout",
     "output_type": "stream",
     "text": [
      "Лучшая модель: GaussianNB\n",
      "Лучшие параметры: {'alpha': 0.1, 'binarize': 0.0}\n"
     ]
    }
   ],
   "source": [
    "X = Dataset.drop('Preferred foot Encoded', axis=1) \n",
    "y = Dataset['Preferred foot Encoded']\n",
    "\n",
    "X_train, X_test, y_train, y_test = train_test_split(X, y, test_size=0.4, random_state=42)\n",
    "\n",
    "\n",
    "under_sampler = RandomUnderSampler(random_state=42)\n",
    "\n",
    "\n",
    "X_resampled, y_resampled = under_sampler.fit_resample(X_train, y_train)\n",
    "\n",
    "\n",
    "# Определение методов наивного байеса\n",
    "naive_bayes_models = {\n",
    "    'GaussianNB': GaussianNB(),\n",
    "    'MultinomialNB': MultinomialNB(),\n",
    "    'BernoulliNB': BernoulliNB(),\n",
    "}\n",
    "\n",
    "# Параметры для GridSearchCV\n",
    "param_grid = {\n",
    "    'GaussianNB': {},\n",
    "    'MultinomialNB': {'alpha': [0.1, 0.5, 1.0]},\n",
    "    'BernoulliNB': {'alpha': [0.1, 0.5, 1.0], 'binarize': [0.0, 0.1, 0.2]},\n",
    "}\n",
    "\n",
    "# Выбор метрики для оценки моделей\n",
    "scoring_metric = 'accuracy'\n",
    "\n",
    "# Обучение и оценка моделей с использованием GridSearchCV\n",
    "best_models = {}\n",
    "for model_name, model in naive_bayes_models.items():\n",
    "    grid_search = GridSearchCV(model, param_grid[model_name], scoring=scoring_metric, cv=5)\n",
    "    grid_search.fit(X_resampled, y_resampled)\n",
    "    \n",
    "    best_models[model_name] = grid_search.best_estimator_\n",
    "# Оценка наилучшей модели на тестовом наборе\n",
    "best_model_name = max(best_models, key=lambda k: grid_search.cv_results_['mean_test_score'][grid_search.best_index_])\n",
    "best_model = best_models[best_model_name]\n",
    "\n",
    "\n",
    "# Вывод результатов\n",
    "print(f\"Лучшая модель: {best_model_name}\")\n",
    "print(f\"Лучшие параметры: {grid_search.best_params_}\")\n"
   ]
  },
  {
   "cell_type": "code",
   "execution_count": 176,
   "id": "28c70b0f-8994-49b7-b72d-3af98d0d0102",
   "metadata": {},
   "outputs": [
    {
     "name": "stdout",
     "output_type": "stream",
     "text": [
      "Точность модели: 0.43226085701918915\n",
      "              precision    recall  f1-score   support\n",
      "\n",
      "           0       0.27      0.81      0.40      1643\n",
      "           1       0.84      0.31      0.46      5288\n",
      "\n",
      "    accuracy                           0.43      6931\n",
      "   macro avg       0.56      0.56      0.43      6931\n",
      "weighted avg       0.71      0.43      0.45      6931\n",
      "\n"
     ]
    }
   ],
   "source": [
    "# Retrain the best model on the entire dataset\n",
    "best_model.fit(X_resampled, y_resampled)\n",
    "\n",
    "# Make predictions on the entire dataset\n",
    "y_pred_full = best_model.predict(X_test)\n",
    "accuracy = accuracy_score(y_test, y_pred_full)\n",
    "classification_rep = classification_report(y_test, y_pred_full)\n",
    "print(f'Точность модели: {accuracy}')\n",
    "print(classification_rep)"
   ]
  },
  {
   "cell_type": "code",
   "execution_count": null,
   "id": "0814774a-eb86-498e-8890-37ad20fe6264",
   "metadata": {},
   "outputs": [],
   "source": []
  }
 ],
 "metadata": {
  "kernelspec": {
   "display_name": "Python 3 (ipykernel)",
   "language": "python",
   "name": "python3"
  },
  "language_info": {
   "codemirror_mode": {
    "name": "ipython",
    "version": 3
   },
   "file_extension": ".py",
   "mimetype": "text/x-python",
   "name": "python",
   "nbconvert_exporter": "python",
   "pygments_lexer": "ipython3",
   "version": "3.10.9"
  }
 },
 "nbformat": 4,
 "nbformat_minor": 5
}
