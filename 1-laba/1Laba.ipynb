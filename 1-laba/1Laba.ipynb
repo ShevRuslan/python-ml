{
 "cells": [
  {
   "cell_type": "markdown",
   "id": "9a61d2c1",
   "metadata": {},
   "source": [
    "# Лабораторная работа №1\n",
    "## ----------------------------------------------------------------------------------------------------------------------------------\n",
    "## Задание:\n",
    "1. Найти набор данных (датасет) для классификации удовлетворяющий следующим условиям: более 10 000 строк, более 20 столбцов, разные типы в столбцах, обязательно наличие целевого признака (таргета).\n",
    "2. Провести классификацию найденного датасета, методом к- ближайших соседей. В формате Markdown писать пояснения. Объяснить почему были выбраны именно такие гиперпараметры, была ли перекрестная проверка, и т.д."
   ]
  },
  {
   "cell_type": "markdown",
   "id": "ed1c15d3",
   "metadata": {},
   "source": [
    "## Решение:"
   ]
  },
  {
   "cell_type": "code",
   "execution_count": 2,
   "id": "1ee8b516",
   "metadata": {},
   "outputs": [],
   "source": [
    "import pandas as pd\n",
    "from sklearn.preprocessing import LabelEncoder\n",
    "\n",
    "from sklearn.model_selection import train_test_split\n",
    "from sklearn.neighbors import KNeighborsClassifier\n",
    "from sklearn.metrics import accuracy_score\n",
    "from sklearn.model_selection import GridSearchCV\n",
    "from sklearn.neighbors import KNeighborsClassifier\n",
    "from sklearn.metrics import accuracy_score\n",
    "import matplotlib.pyplot as plt\n",
    "\n",
    "import matplotlib.pyplot as plt"
   ]
  },
  {
   "cell_type": "code",
   "execution_count": 3,
   "id": "b0d61e7e",
   "metadata": {},
   "outputs": [
    {
     "name": "stdout",
     "output_type": "stream",
     "text": [
      "   Unnamed: 0             Name     Nation             Club Position  Age  \\\n",
      "0           0    Kylian Mbappé     France         Paris SG       ST   24   \n",
      "1           1   Erling Haaland     Norway  Manchester City       ST   23   \n",
      "2           2  Kevin De Bruyne    Belgium  Manchester City       CM   32   \n",
      "3           3     Lionel Messi  Argentina   Inter Miami CF       CF   36   \n",
      "4           4    Karim Benzema     France       Al Ittihad       CF   35   \n",
      "\n",
      "   Overall  Pace  Shooting  Passing  ...  Strength  Aggression  Att work rate  \\\n",
      "0       91    97        90       80  ...        77          64           High   \n",
      "1       91    89        93       66  ...        93          87           High   \n",
      "2       91    72        88       94  ...        74          75           High   \n",
      "3       90    80        87       90  ...        68          44            Low   \n",
      "4       90    79        88       83  ...        82          63         Medium   \n",
      "\n",
      "   Def work rate  Preferred foot  Weak foot  Skill moves  \\\n",
      "0            Low           Right          4            5   \n",
      "1         Medium            Left          3            3   \n",
      "2         Medium           Right          5            4   \n",
      "3            Low            Left          4            4   \n",
      "4         Medium           Right          4            4   \n",
      "\n",
      "                                                 URL  Gender  GK  \n",
      "0  https://www.ea.com/games/ea-sports-fc/ratings/...       M NaN  \n",
      "1  https://www.ea.com/games/ea-sports-fc/ratings/...       M NaN  \n",
      "2  https://www.ea.com/games/ea-sports-fc/ratings/...       M NaN  \n",
      "3  https://www.ea.com/games/ea-sports-fc/ratings/...       M NaN  \n",
      "4  https://www.ea.com/games/ea-sports-fc/ratings/...       M NaN  \n",
      "\n",
      "[5 rows x 47 columns]\n"
     ]
    }
   ],
   "source": [
    "# Загрузка данных\n",
    "data = pd.read_csv('all_players.csv')  # Замени на путь к файлу\n",
    "# Показать первые строки данных для проверки\n",
    "print(data.head())"
   ]
  },
  {
   "cell_type": "code",
   "execution_count": 4,
   "id": "ba6e6a39",
   "metadata": {},
   "outputs": [
    {
     "name": "stdout",
     "output_type": "stream",
     "text": [
      "  Preferred foot  Preferred foot Encoded\n",
      "0          Right                       1\n",
      "1           Left                       0\n",
      "2          Right                       1\n",
      "3           Left                       0\n",
      "4          Right                       1\n"
     ]
    }
   ],
   "source": [
    "# Создаем объект LabelEncoder\n",
    "label_encoder = LabelEncoder()\n",
    "\n",
    "# Применяем Label Encoding к столбцу 'Attack Type'\n",
    "data['Preferred foot Encoded'] = label_encoder.fit_transform(data['Preferred foot'])\n",
    "\n",
    "# Проверка результатов\n",
    "print(data[['Preferred foot', 'Preferred foot Encoded']].head())"
   ]
  },
  {
   "cell_type": "code",
   "execution_count": 5,
   "id": "85c13f7d",
   "metadata": {},
   "outputs": [
    {
     "name": "stdout",
     "output_type": "stream",
     "text": [
      "<class 'pandas.core.frame.DataFrame'>\n",
      "Int64Index: 1952 entries, 5 to 17320\n",
      "Data columns (total 39 columns):\n",
      " #   Column                  Non-Null Count  Dtype  \n",
      "---  ------                  --------------  -----  \n",
      " 0   Unnamed: 0              1952 non-null   int64  \n",
      " 1   Age                     1952 non-null   int64  \n",
      " 2   Overall                 1952 non-null   int64  \n",
      " 3   Pace                    1952 non-null   int64  \n",
      " 4   Shooting                1952 non-null   int64  \n",
      " 5   Passing                 1952 non-null   int64  \n",
      " 6   Dribbling               1952 non-null   int64  \n",
      " 7   Defending               1952 non-null   int64  \n",
      " 8   Physicality             1952 non-null   int64  \n",
      " 9   Acceleration            1952 non-null   int64  \n",
      " 10  Sprint                  1952 non-null   int64  \n",
      " 11  Positioning             1952 non-null   int64  \n",
      " 12  Finishing               1952 non-null   int64  \n",
      " 13  Shot                    1952 non-null   int64  \n",
      " 14  Long                    1952 non-null   int64  \n",
      " 15  Volleys                 1952 non-null   int64  \n",
      " 16  Penalties               1952 non-null   int64  \n",
      " 17  Vision                  1952 non-null   int64  \n",
      " 18  Crossing                1952 non-null   int64  \n",
      " 19  Free                    1952 non-null   int64  \n",
      " 20  Curve                   1952 non-null   int64  \n",
      " 21  Agility                 1952 non-null   int64  \n",
      " 22  Balance                 1952 non-null   int64  \n",
      " 23  Reactions               1952 non-null   int64  \n",
      " 24  Ball                    1952 non-null   int64  \n",
      " 25  Composure               1952 non-null   int64  \n",
      " 26  Interceptions           1952 non-null   int64  \n",
      " 27  Heading                 1952 non-null   int64  \n",
      " 28  Def                     1952 non-null   int64  \n",
      " 29  Standing                1952 non-null   int64  \n",
      " 30  Sliding                 1952 non-null   int64  \n",
      " 31  Jumping                 1952 non-null   int64  \n",
      " 32  Stamina                 1952 non-null   int64  \n",
      " 33  Strength                1952 non-null   int64  \n",
      " 34  Aggression              1952 non-null   int64  \n",
      " 35  Weak foot               1952 non-null   int64  \n",
      " 36  Skill moves             1952 non-null   int64  \n",
      " 37  GK                      1952 non-null   float64\n",
      " 38  Preferred foot Encoded  1952 non-null   int32  \n",
      "dtypes: float64(1), int32(1), int64(37)\n",
      "memory usage: 602.4 KB\n"
     ]
    }
   ],
   "source": [
    "# Выбираем столбцы, не являющиеся числовыми\n",
    "non_numeric_columns = data.select_dtypes(exclude=['number']).columns.tolist()\n",
    "\n",
    "# Удаляем столбцы с нечисловыми данными из DataFrame\n",
    "data = data.drop(columns=non_numeric_columns)\n",
    "data.dropna(inplace=True)\n",
    "data.info()"
   ]
  },
  {
   "cell_type": "code",
   "execution_count": 6,
   "id": "d420caf2",
   "metadata": {},
   "outputs": [
    {
     "name": "stdout",
     "output_type": "stream",
     "text": [
      "Точность модели k-ближайших соседей: 0.8746803069053708\n"
     ]
    }
   ],
   "source": [
    "# Разделение данных на признаки (X) и целевую переменную (y)\n",
    "X = data.drop(['Preferred foot Encoded'], axis=1)\n",
    "y = data['Preferred foot Encoded']\n",
    "\n",
    "# Разделение данных на обучающий и тестовый наборы\n",
    "X_train, X_test, y_train, y_test = train_test_split(X, y, test_size=0.2, random_state=42)\n",
    "\n",
    "# Создание модели k-ближайших соседей\n",
    "knn = KNeighborsClassifier(n_neighbors=5)\n",
    "\n",
    "# Обучение модели\n",
    "knn.fit(X_train, y_train)\n",
    "\n",
    "# Предсказание на тестовом наборе\n",
    "y_pred = knn.predict(X_test)\n",
    "\n",
    "# Оценка точности модели\n",
    "accuracy = accuracy_score(y_test, y_pred)\n",
    "print(f'Точность модели k-ближайших соседей: {accuracy}')"
   ]
  },
  {
   "cell_type": "code",
   "execution_count": 7,
   "id": "967d8977",
   "metadata": {},
   "outputs": [
    {
     "data": {
      "image/png": "[encoded data removed]",
      "text/plain": [
       "<Figure size 1000x600 with 1 Axes>"
      ]
     },
     "metadata": {},
     "output_type": "display_data"
    }
   ],
   "source": [
    "# Создаем словарь с параметрами, которые хотим проверить\n",
    "param_grid = {'n_neighbors': range(5, 40)}\n",
    "\n",
    "# Создаем GridSearchCV объект\n",
    "grid_search = GridSearchCV(knn, param_grid, cv=5, scoring='accuracy')\n",
    "\n",
    "# Обучаем модель с помощью поиска по сетке\n",
    "grid_search.fit(X_train, y_train)\n",
    "\n",
    "# Получаем лучшее количество соседей\n",
    "best_k = grid_search.best_params_['n_neighbors']\n",
    "\n",
    "# Получаем точность для каждого значения параметра\n",
    "accuracies = grid_search.cv_results_['mean_test_score']\n",
    "\n",
    "# Построение графика\n",
    "plt.figure(figsize=(10, 6))\n",
    "plt.plot(range(5, 40), accuracies, marker='x', linestyle='dashed', color='red', markersize=4)\n",
    "plt.title('Точность модели для разного количества соседей')\n",
    "plt.xlabel('Количество соседей')\n",
    "plt.ylabel('Точность')\n",
    "plt.xticks(range(5, 40))\n",
    "plt.grid(True)\n",
    "plt.show()"
   ]
  },
  {
   "cell_type": "markdown",
   "id": "f254a568",
   "metadata": {},
   "source": [
    "Максимальная точность достигает при количестве соседей > 8, следовательно, больше 8 соседей нет смысла рассматривать."
   ]
  },
  {
   "cell_type": "markdown",
   "id": "3d87532a-6390-4a00-b1d9-4a5c4f63a8dc",
   "metadata": {},
   "source": [
    "# Евклидова метрика\n"
   ]
  },
  {
   "cell_type": "markdown",
   "id": "349ea45d-2fde-41fa-ad58-e6e957604dc5",
   "metadata": {},
   "source": [
    "Измеряет прямое расстояние между двумя точками в пространстве."
   ]
  },
  {
   "cell_type": "code",
   "execution_count": 8,
   "id": "569a41ac",
   "metadata": {},
   "outputs": [
    {
     "name": "stdout",
     "output_type": "stream",
     "text": [
      "Точность модели k-ближайших соседей с использованием Евклидовой метрики: 0.8746803069053708\n"
     ]
    }
   ],
   "source": [
    "# Создание модели k-ближайших соседей\n",
    "knn = KNeighborsClassifier(n_neighbors=5, metric='euclidean')\n",
    "\n",
    "# Обучение модели\n",
    "knn.fit(X_train, y_train)\n",
    "\n",
    "# Предсказание на тестовом наборе\n",
    "y_pred = knn.predict(X_test)\n",
    "\n",
    "# Оценка точности модели\n",
    "accuracy = accuracy_score(y_test, y_pred)\n",
    "print(f'Точность модели k-ближайших соседей с использованием Евклидовой метрики: {accuracy}')"
   ]
  },
  {
   "cell_type": "markdown",
   "id": "499cb0da-dd04-46fc-b72f-f21cfec18ee4",
   "metadata": {},
   "source": [
    "# Манхэттенская метрика"
   ]
  },
  {
   "cell_type": "markdown",
   "id": "1c55029d-c613-4543-8f70-ac968aa5cd01",
   "metadata": {},
   "source": [
    "Измеряет сумму абсолютных различий между координатами точек."
   ]
  },
  {
   "cell_type": "code",
   "execution_count": 9,
   "id": "d1376a7a-8225-4c61-8d19-ddcc78123d6f",
   "metadata": {},
   "outputs": [
    {
     "name": "stdout",
     "output_type": "stream",
     "text": [
      "Точность модели k-ближайших соседей с использованием Евклидовой метрики: 0.8721227621483376\n"
     ]
    }
   ],
   "source": [
    "# Создание модели k-ближайших соседей\n",
    "knn = KNeighborsClassifier(n_neighbors=5, metric='manhattan')\n",
    "\n",
    "# Обучение модели\n",
    "knn.fit(X_train, y_train)\n",
    "\n",
    "# Предсказание на тестовом наборе\n",
    "y_pred = knn.predict(X_test)\n",
    "\n",
    "# Оценка точности модели\n",
    "accuracy = accuracy_score(y_test, y_pred)\n",
    "print(f'Точность модели k-ближайших соседей с использованием Евклидовой метрики: {accuracy}')"
   ]
  },
  {
   "cell_type": "markdown",
   "id": "aaa6948c-1b59-458f-aec9-b302c356fba3",
   "metadata": {},
   "source": [
    "# Чебышева метрика"
   ]
  },
  {
   "cell_type": "markdown",
   "id": "d929df23-b393-461f-9928-bb20e9b7020d",
   "metadata": {},
   "source": [
    "Измеряет максимальное различие между соответствующими координатами точек."
   ]
  },
  {
   "cell_type": "code",
   "execution_count": 10,
   "id": "5e7d387a-3988-4d0e-8627-4d746f5636d0",
   "metadata": {},
   "outputs": [
    {
     "name": "stdout",
     "output_type": "stream",
     "text": [
      "Точность модели k-ближайших соседей с использованием Евклидовой метрики: 0.8721227621483376\n"
     ]
    }
   ],
   "source": [
    "# Создание модели k-ближайших соседей\n",
    "knn = KNeighborsClassifier(n_neighbors=5, metric='chebyshev')\n",
    "\n",
    "# Обучение модели\n",
    "knn.fit(X_train, y_train)\n",
    "\n",
    "# Предсказание на тестовом наборе\n",
    "y_pred = knn.predict(X_test)\n",
    "\n",
    "# Оценка точности модели\n",
    "accuracy = accuracy_score(y_test, y_pred)\n",
    "print(f'Точность модели k-ближайших соседей с использованием Евклидовой метрики: {accuracy}')"
   ]
  },
  {
   "cell_type": "markdown",
   "id": "1c0dd9cc-c284-47bc-b20b-0e352b2c4aa6",
   "metadata": {},
   "source": [
    "# Минковского метрика"
   ]
  },
  {
   "cell_type": "markdown",
   "id": "b398a8a2-4e78-41c7-b737-af2b82a8b649",
   "metadata": {},
   "source": [
    "Метрика является обобщением Евклидовой и Манхэттенской метрик и включает параметр p, который может принимать различные значения. При p = 2 это Евклидова метрика, при p = 1 - Манхэттенская.В общем случае, p представляет собой степень, и значение p может быть любым положительным вещественным числом."
   ]
  },
  {
   "cell_type": "code",
   "execution_count": 11,
   "id": "80c48897-f390-4654-ac3e-fa8b921fbbbc",
   "metadata": {},
   "outputs": [
    {
     "name": "stdout",
     "output_type": "stream",
     "text": [
      "Точность модели k-ближайших соседей с использованием Евклидовой метрики: 0.8721227621483376\n"
     ]
    }
   ],
   "source": [
    "# Создание модели k-ближайших соседей\n",
    "knn = KNeighborsClassifier(n_neighbors=5, metric='minkowski', p=5)\n",
    "\n",
    "# Обучение модели\n",
    "knn.fit(X_train, y_train)\n",
    "\n",
    "# Предсказание на тестовом наборе\n",
    "y_pred = knn.predict(X_test)\n",
    "\n",
    "# Оценка точности модели\n",
    "accuracy = accuracy_score(y_test, y_pred)\n",
    "print(f'Точность модели k-ближайших соседей с использованием Евклидовой метрики: {accuracy}')"
   ]
  },
  {
   "cell_type": "code",
   "execution_count": 12,
   "id": "6a01a84f-b85f-4220-a6f8-40f928f71ab8",
   "metadata": {},
   "outputs": [
    {
     "name": "stdout",
     "output_type": "stream",
     "text": [
      "Точность модели k-ближайших соседей с использованием Евклидовой метрики: 0.8746803069053708\n"
     ]
    }
   ],
   "source": [
    "# Создание модели k-ближайших соседей\n",
    "knn = KNeighborsClassifier(n_neighbors=5, metric='minkowski', p=2)\n",
    "\n",
    "# Обучение модели\n",
    "knn.fit(X_train, y_train)\n",
    "\n",
    "# Предсказание на тестовом наборе\n",
    "y_pred = knn.predict(X_test)\n",
    "\n",
    "# Оценка точности модели\n",
    "accuracy = accuracy_score(y_test, y_pred)\n",
    "print(f'Точность модели k-ближайших соседей с использованием Евклидовой метрики: {accuracy}')"
   ]
  },
  {
   "cell_type": "code",
   "execution_count": 13,
   "id": "2c1daa24-e214-4d86-a400-164ed571392d",
   "metadata": {},
   "outputs": [
    {
     "name": "stdout",
     "output_type": "stream",
     "text": [
      "Точность модели k-ближайших соседей с использованием Евклидовой метрики: 0.8721227621483376\n"
     ]
    }
   ],
   "source": [
    "# Создание модели k-ближайших соседей\n",
    "knn = KNeighborsClassifier(n_neighbors=5, metric='minkowski', p=10)\n",
    "\n",
    "# Обучение модели\n",
    "knn.fit(X_train, y_train)\n",
    "\n",
    "# Предсказание на тестовом наборе\n",
    "y_pred = knn.predict(X_test)\n",
    "\n",
    "# Оценка точности модели\n",
    "accuracy = accuracy_score(y_test, y_pred)\n",
    "print(f'Точность модели k-ближайших соседей с использованием Евклидовой метрики: {accuracy}')"
   ]
  },
  {
   "cell_type": "markdown",
   "id": "f3bbf25d-7acc-4757-868d-abec277e5a52",
   "metadata": {},
   "source": [
    "# Вывод"
   ]
  },
  {
   "cell_type": "markdown",
   "id": "da115823-e2f2-4217-99d0-d897ace4be77",
   "metadata": {},
   "source": [
    "Из всех вышеперечисленных методик, значений можно сделать следующие вывод. Во всех случаях точность получается ~0.87, из чего можно следующий вывод:\n",
    "Это означает, что модель правильно классифицировала около 87% тестовых наблюдений, т.е она правильно предсказала метку класса для примерно 87% наблюдений в тестовом наборе данных.\n"
   ]
  }
 ],
 "metadata": {
  "kernelspec": {
   "display_name": "Python 3 (ipykernel)",
   "language": "python",
   "name": "python3"
  },
  "language_info": {
   "codemirror_mode": {
    "name": "ipython",
    "version": 3
   },
   "file_extension": ".py",
   "mimetype": "text/x-python",
   "name": "python",
   "nbconvert_exporter": "python",
   "pygments_lexer": "ipython3",
   "version": "3.10.9"
  }
 },
 "nbformat": 4,
 "nbformat_minor": 5
}
