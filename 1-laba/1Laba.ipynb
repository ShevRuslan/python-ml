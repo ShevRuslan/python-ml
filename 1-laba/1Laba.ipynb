{
 "cells": [
  {
   "cell_type": "markdown",
   "id": "9a61d2c1",
   "metadata": {},
   "source": [
    "# Лабораторная работа №1\n",
    "## ----------------------------------------------------------------------------------------------------------------------------------\n",
    "## Задание:\n",
    "1. Найти набор данных (датасет) для классификации удовлетворяющий следующим условиям: более 10 000 строк, более 20 столбцов, разные типы в столбцах, обязательно наличие целевого признака (таргета).\n",
    "2. Провести классификацию найденного датасета, методом к- ближайших соседей. В формате Markdown писать пояснения. Объяснить почему были выбраны именно такие гиперпараметры, была ли перекрестная проверка, и т.д."
   ]
  },
  {
   "cell_type": "markdown",
   "id": "ed1c15d3",
   "metadata": {},
   "source": [
    "## Решение:"
   ]
  },
  {
   "cell_type": "code",
   "execution_count": 35,
   "id": "1ee8b516",
   "metadata": {},
   "outputs": [],
   "source": [
    "import pandas as pd\n",
    "from sklearn.preprocessing import LabelEncoder\n",
    "\n",
    "from sklearn.model_selection import train_test_split\n",
    "from sklearn.neighbors import KNeighborsClassifier\n",
    "from sklearn.metrics import accuracy_score\n",
    "\n",
    "import matplotlib.pyplot as plt"
   ]
  },
  {
   "cell_type": "code",
   "execution_count": 36,
   "id": "b0d61e7e",
   "metadata": {},
   "outputs": [
    {
     "name": "stdout",
     "output_type": "stream",
     "text": [
      "   Unnamed: 0             Name     Nation             Club Position  Age  \\\n",
      "0           0    Kylian Mbappé     France         Paris SG       ST   24   \n",
      "1           1   Erling Haaland     Norway  Manchester City       ST   23   \n",
      "2           2  Kevin De Bruyne    Belgium  Manchester City       CM   32   \n",
      "3           3     Lionel Messi  Argentina   Inter Miami CF       CF   36   \n",
      "4           4    Karim Benzema     France       Al Ittihad       CF   35   \n",
      "\n",
      "   Overall  Pace  Shooting  Passing  ...  Strength  Aggression  Att work rate  \\\n",
      "0       91    97        90       80  ...        77          64           High   \n",
      "1       91    89        93       66  ...        93          87           High   \n",
      "2       91    72        88       94  ...        74          75           High   \n",
      "3       90    80        87       90  ...        68          44            Low   \n",
      "4       90    79        88       83  ...        82          63         Medium   \n",
      "\n",
      "   Def work rate  Preferred foot  Weak foot  Skill moves  \\\n",
      "0            Low           Right          4            5   \n",
      "1         Medium            Left          3            3   \n",
      "2         Medium           Right          5            4   \n",
      "3            Low            Left          4            4   \n",
      "4         Medium           Right          4            4   \n",
      "\n",
      "                                                 URL  Gender  GK  \n",
      "0  https://www.ea.com/games/ea-sports-fc/ratings/...       M NaN  \n",
      "1  https://www.ea.com/games/ea-sports-fc/ratings/...       M NaN  \n",
      "2  https://www.ea.com/games/ea-sports-fc/ratings/...       M NaN  \n",
      "3  https://www.ea.com/games/ea-sports-fc/ratings/...       M NaN  \n",
      "4  https://www.ea.com/games/ea-sports-fc/ratings/...       M NaN  \n",
      "\n",
      "[5 rows x 47 columns]\n"
     ]
    }
   ],
   "source": [
    "# Загрузка данных\n",
    "data = pd.read_csv('all_players.csv')  # Замени на путь к файлу\n",
    "# Показать первые строки данных для проверки\n",
    "print(data.head())"
   ]
  },
  {
   "cell_type": "code",
   "execution_count": 37,
   "id": "ba6e6a39",
   "metadata": {},
   "outputs": [
    {
     "name": "stdout",
     "output_type": "stream",
     "text": [
      "  Preferred foot  Preferred foot Encoded\n",
      "0          Right                       1\n",
      "1           Left                       0\n",
      "2          Right                       1\n",
      "3           Left                       0\n",
      "4          Right                       1\n"
     ]
    }
   ],
   "source": [
    "# Создаем объект LabelEncoder\n",
    "label_encoder = LabelEncoder()\n",
    "\n",
    "# Применяем Label Encoding к столбцу 'Attack Type'\n",
    "data['Preferred foot Encoded'] = label_encoder.fit_transform(data['Preferred foot'])\n",
    "\n",
    "# Проверка результатов\n",
    "print(data[['Preferred foot', 'Preferred foot Encoded']].head())"
   ]
  },
  {
   "cell_type": "code",
   "execution_count": 38,
   "id": "85c13f7d",
   "metadata": {},
   "outputs": [
    {
     "name": "stdout",
     "output_type": "stream",
     "text": [
      "<class 'pandas.core.frame.DataFrame'>\n",
      "Int64Index: 1952 entries, 5 to 17320\n",
      "Data columns (total 39 columns):\n",
      " #   Column                  Non-Null Count  Dtype  \n",
      "---  ------                  --------------  -----  \n",
      " 0   Unnamed: 0              1952 non-null   int64  \n",
      " 1   Age                     1952 non-null   int64  \n",
      " 2   Overall                 1952 non-null   int64  \n",
      " 3   Pace                    1952 non-null   int64  \n",
      " 4   Shooting                1952 non-null   int64  \n",
      " 5   Passing                 1952 non-null   int64  \n",
      " 6   Dribbling               1952 non-null   int64  \n",
      " 7   Defending               1952 non-null   int64  \n",
      " 8   Physicality             1952 non-null   int64  \n",
      " 9   Acceleration            1952 non-null   int64  \n",
      " 10  Sprint                  1952 non-null   int64  \n",
      " 11  Positioning             1952 non-null   int64  \n",
      " 12  Finishing               1952 non-null   int64  \n",
      " 13  Shot                    1952 non-null   int64  \n",
      " 14  Long                    1952 non-null   int64  \n",
      " 15  Volleys                 1952 non-null   int64  \n",
      " 16  Penalties               1952 non-null   int64  \n",
      " 17  Vision                  1952 non-null   int64  \n",
      " 18  Crossing                1952 non-null   int64  \n",
      " 19  Free                    1952 non-null   int64  \n",
      " 20  Curve                   1952 non-null   int64  \n",
      " 21  Agility                 1952 non-null   int64  \n",
      " 22  Balance                 1952 non-null   int64  \n",
      " 23  Reactions               1952 non-null   int64  \n",
      " 24  Ball                    1952 non-null   int64  \n",
      " 25  Composure               1952 non-null   int64  \n",
      " 26  Interceptions           1952 non-null   int64  \n",
      " 27  Heading                 1952 non-null   int64  \n",
      " 28  Def                     1952 non-null   int64  \n",
      " 29  Standing                1952 non-null   int64  \n",
      " 30  Sliding                 1952 non-null   int64  \n",
      " 31  Jumping                 1952 non-null   int64  \n",
      " 32  Stamina                 1952 non-null   int64  \n",
      " 33  Strength                1952 non-null   int64  \n",
      " 34  Aggression              1952 non-null   int64  \n",
      " 35  Weak foot               1952 non-null   int64  \n",
      " 36  Skill moves             1952 non-null   int64  \n",
      " 37  GK                      1952 non-null   float64\n",
      " 38  Preferred foot Encoded  1952 non-null   int32  \n",
      "dtypes: float64(1), int32(1), int64(37)\n",
      "memory usage: 602.4 KB\n"
     ]
    }
   ],
   "source": [
    "# Выбираем столбцы, не являющиеся числовыми\n",
    "non_numeric_columns = data.select_dtypes(exclude=['number']).columns.tolist()\n",
    "\n",
    "# Удаляем столбцы с нечисловыми данными из DataFrame\n",
    "data = data.drop(columns=non_numeric_columns)\n",
    "data.dropna(inplace=True)\n",
    "data.info()"
   ]
  },
  {
   "cell_type": "code",
   "execution_count": 39,
   "id": "d420caf2",
   "metadata": {},
   "outputs": [
    {
     "name": "stdout",
     "output_type": "stream",
     "text": [
      "Точность модели k-ближайших соседей: 0.87\n"
     ]
    }
   ],
   "source": [
    "# Разделение данных на признаки (X) и целевую переменную (y)\n",
    "X = data.drop(['Preferred foot Encoded'], axis=1)\n",
    "y = data['Preferred foot Encoded']\n",
    "\n",
    "# Разделение данных на обучающий и тестовый наборы\n",
    "X_train, X_test, y_train, y_test = train_test_split(X, y, test_size=0.2, random_state=42)\n",
    "\n",
    "# Создание модели k-ближайших соседей\n",
    "knn = KNeighborsClassifier(n_neighbors=5)\n",
    "\n",
    "# Обучение модели\n",
    "knn.fit(X_train, y_train)\n",
    "\n",
    "# Предсказание на тестовом наборе\n",
    "y_pred = knn.predict(X_test)\n",
    "\n",
    "# Оценка точности модели\n",
    "accuracy = accuracy_score(y_test, y_pred)\n",
    "print(f'Точность модели k-ближайших соседей: {accuracy:.2f}')"
   ]
  },
  {
   "cell_type": "code",
   "execution_count": 45,
   "id": "967d8977",
   "metadata": {},
   "outputs": [
    {
     "data": {
      "image/png": "[encoded data removed]",
      "text/plain": [
       "<Figure size 1000x600 with 1 Axes>"
      ]
     },
     "metadata": {},
     "output_type": "display_data"
    }
   ],
   "source": [
    "# Пустые списки для сохранения точности и количества соседей\n",
    "accuracies = []\n",
    "neighbors = range(5, 40)  # Попробуем количество соседей от 1 до 20\n",
    "\n",
    "# Проходимся по разным значениям количества соседей\n",
    "for k in neighbors:\n",
    "    knn = KNeighborsClassifier(n_neighbors=k)\n",
    "    knn.fit(X_train, y_train)\n",
    "    y_pred = knn.predict(X_test)\n",
    "    accuracy = accuracy_score(y_test, y_pred)\n",
    "    accuracies.append(accuracy)\n",
    "\n",
    "# Построение графика\n",
    "plt.figure(figsize=(10, 6))\n",
    "plt.plot(neighbors, accuracies, marker='x', linestyle='dashed', color='red', markersize=4)\n",
    "plt.title('Точность модели для разного количества соседей')\n",
    "plt.xlabel('Количество соседей')\n",
    "plt.ylabel('Точность')\n",
    "plt.xticks(neighbors)\n",
    "plt.grid(True)\n",
    "plt.show()"
   ]
  },
  {
   "cell_type": "markdown",
   "id": "f254a568",
   "metadata": {},
   "source": [
    "Выбор гиперпараметров в модели машинного обучения, такой как количество соседей (в случае метода k-ближайших соседей), часто осуществляется путем применения техник перекрестной проверки (cross-validation). Перекрестная проверка помогает оценить, как хорошо модель обобщает данные, и избежать переобучения или недообучения.\n",
    "\n",
    "Оптимальное количество соседей можно выбрать путем использования перекрестной проверки для разных значений этого гиперпараметра и выбора того, которое демонстрирует наилучшую производительность на тестовом наборе данных."
   ]
  },
  {
   "cell_type": "code",
   "execution_count": null,
   "id": "08625110",
   "metadata": {},
   "outputs": [],
   "source": []
  },
  {
   "cell_type": "code",
   "execution_count": null,
   "id": "569a41ac",
   "metadata": {},
   "outputs": [],
   "source": []
  },
  {
   "cell_type": "code",
   "execution_count": null,
   "id": "c5279dc8",
   "metadata": {},
   "outputs": [],
   "source": []
  }
 ],
 "metadata": {
  "kernelspec": {
   "display_name": "Python 3 (ipykernel)",
   "language": "python",
   "name": "python3"
  },
  "language_info": {
   "codemirror_mode": {
    "name": "ipython",
    "version": 3
   },
   "file_extension": ".py",
   "mimetype": "text/x-python",
   "name": "python",
   "nbconvert_exporter": "python",
   "pygments_lexer": "ipython3",
   "version": "3.11.5"
  }
 },
 "nbformat": 4,
 "nbformat_minor": 5
}
